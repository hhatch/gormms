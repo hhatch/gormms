{
 "cells": [
  {
   "cell_type": "markdown",
   "id": "f0584837-7783-481c-8b43-6f07280c37a6",
   "metadata": {
    "hideCode": false,
    "hidePrompt": false
   },
   "source": [
    "# LJ NVT MC\n",
    "\n",
    "[Canonical Ensemble Metropolis Monte Carlo (NVT MC)](../methods/nvt_mc.rst) simulations were conducted with the [Lennard-Jones (LJ)](../models/lj.rst) potential.\n",
    "The reported statistical uncertainties, $\\sigma$, were obtained with the [blocking method](../methods/block_averages.rst) as implemented in [FEASST v0.25.1](https://doi.org/10.18434/M3S095)."
   ]
  },
  {
   "cell_type": "code",
   "execution_count": 43,
   "id": "2ad41a0b-875b-4372-8265-f845f35f365f",
   "metadata": {
    "hideCode": false,
    "hidePrompt": false,
    "tags": [
     "hide-input"
    ]
   },
   "outputs": [
    {
     "name": "stdout",
     "output_type": "stream",
     "text": [
      "Simulation parameters\n"
     ]
    },
    {
     "data": {
      "text/html": [
       "<table>\n",
       "<tbody>\n",
       "<tr><td>Number of particles, $N$ :</td><td>500                       </td></tr>\n",
       "<tr><td>cutoff, $r_c/\\sigma$ :    </td><td>3 + long range corrections</td></tr>\n",
       "<tr><td>Equilibration trials :    </td><td>5E+07                     </td></tr>\n",
       "<tr><td>Production trials :       </td><td>2.5E+08                   </td></tr>\n",
       "</tbody>\n",
       "</table>"
      ],
      "text/plain": [
       "<IPython.core.display.HTML object>"
      ]
     },
     "metadata": {},
     "output_type": "display_data"
    }
   ],
   "source": [
    "import pandas as pd\n",
    "from tabulate import tabulate\n",
    "from dormms import lennard_jones as lj\n",
    "from IPython.display import display, HTML\n",
    "import matplotlib.pyplot as plt\n",
    "data = lj.CanonicalMonteCarlo().data()\n",
    "print('Simulation parameters')\n",
    "display(HTML(tabulate([[r'Number of particles, $N$ :', data['number_particles']],\n",
    "          [r'cutoff, $r_c/\\sigma$ :', str(data['interaction_cutoff']) + ' + long range corrections'],\n",
    "          ['Equilibration trials :', \"{:1.0E}\".format(data['equilibration_trials'])],\n",
    "          ['Production trials :', \"{:2.1E}\".format(data['production_trials'])],\n",
    "               ], tablefmt='html')))"
   ]
  },
  {
   "cell_type": "code",
   "execution_count": 44,
   "id": "6d622869-74b0-4c25-9341-2da63715f0a1",
   "metadata": {
    "hideCode": false,
    "hidePrompt": false,
    "tags": [
     "hide-input"
    ]
   },
   "outputs": [
    {
     "data": {
      "text/html": [
       "<table border=\"1\" class=\"dataframe\">\n",
       "  <thead>\n",
       "    <tr style=\"text-align: right;\">\n",
       "      <th></th>\n",
       "      <th>$k_B T/\\epsilon$</th>\n",
       "      <th>$\\rho\\sigma^3$</th>\n",
       "      <th>$U/\\epsilon$</th>\n",
       "      <th>$\\sigma_{U}/\\epsilon$</th>\n",
       "    </tr>\n",
       "  </thead>\n",
       "  <tbody>\n",
       "    <tr>\n",
       "      <th>0</th>\n",
       "      <td>0.85</td>\n",
       "      <td>0.001</td>\n",
       "      <td>-0.010335</td>\n",
       "      <td>0.000011</td>\n",
       "    </tr>\n",
       "    <tr>\n",
       "      <th>1</th>\n",
       "      <td>0.85</td>\n",
       "      <td>0.003</td>\n",
       "      <td>-0.031042</td>\n",
       "      <td>0.000018</td>\n",
       "    </tr>\n",
       "    <tr>\n",
       "      <th>2</th>\n",
       "      <td>0.85</td>\n",
       "      <td>0.005</td>\n",
       "      <td>-0.051854</td>\n",
       "      <td>0.000020</td>\n",
       "    </tr>\n",
       "    <tr>\n",
       "      <th>3</th>\n",
       "      <td>0.85</td>\n",
       "      <td>0.007</td>\n",
       "      <td>-0.072884</td>\n",
       "      <td>0.000023</td>\n",
       "    </tr>\n",
       "    <tr>\n",
       "      <th>4</th>\n",
       "      <td>0.85</td>\n",
       "      <td>0.009</td>\n",
       "      <td>-0.093966</td>\n",
       "      <td>0.000047</td>\n",
       "    </tr>\n",
       "    <tr>\n",
       "      <th>5</th>\n",
       "      <td>0.85</td>\n",
       "      <td>0.776</td>\n",
       "      <td>-5.511923</td>\n",
       "      <td>0.000371</td>\n",
       "    </tr>\n",
       "    <tr>\n",
       "      <th>6</th>\n",
       "      <td>0.85</td>\n",
       "      <td>0.780</td>\n",
       "      <td>-5.538624</td>\n",
       "      <td>0.000354</td>\n",
       "    </tr>\n",
       "    <tr>\n",
       "      <th>7</th>\n",
       "      <td>0.85</td>\n",
       "      <td>0.820</td>\n",
       "      <td>-5.795079</td>\n",
       "      <td>0.000355</td>\n",
       "    </tr>\n",
       "    <tr>\n",
       "      <th>8</th>\n",
       "      <td>0.85</td>\n",
       "      <td>0.860</td>\n",
       "      <td>-6.030030</td>\n",
       "      <td>0.000549</td>\n",
       "    </tr>\n",
       "    <tr>\n",
       "      <th>9</th>\n",
       "      <td>0.85</td>\n",
       "      <td>0.900</td>\n",
       "      <td>-6.238393</td>\n",
       "      <td>0.000574</td>\n",
       "    </tr>\n",
       "    <tr>\n",
       "      <th>10</th>\n",
       "      <td>0.90</td>\n",
       "      <td>0.001</td>\n",
       "      <td>-0.009912</td>\n",
       "      <td>0.000009</td>\n",
       "    </tr>\n",
       "    <tr>\n",
       "      <th>11</th>\n",
       "      <td>0.90</td>\n",
       "      <td>0.003</td>\n",
       "      <td>-0.029817</td>\n",
       "      <td>0.000014</td>\n",
       "    </tr>\n",
       "    <tr>\n",
       "      <th>12</th>\n",
       "      <td>0.90</td>\n",
       "      <td>0.005</td>\n",
       "      <td>-0.049739</td>\n",
       "      <td>0.000020</td>\n",
       "    </tr>\n",
       "    <tr>\n",
       "      <th>13</th>\n",
       "      <td>0.90</td>\n",
       "      <td>0.007</td>\n",
       "      <td>-0.069824</td>\n",
       "      <td>0.000029</td>\n",
       "    </tr>\n",
       "    <tr>\n",
       "      <th>14</th>\n",
       "      <td>0.90</td>\n",
       "      <td>0.009</td>\n",
       "      <td>-0.089971</td>\n",
       "      <td>0.000039</td>\n",
       "    </tr>\n",
       "    <tr>\n",
       "      <th>15</th>\n",
       "      <td>0.90</td>\n",
       "      <td>0.776</td>\n",
       "      <td>-5.468437</td>\n",
       "      <td>0.000300</td>\n",
       "    </tr>\n",
       "    <tr>\n",
       "      <th>16</th>\n",
       "      <td>0.90</td>\n",
       "      <td>0.780</td>\n",
       "      <td>-5.495040</td>\n",
       "      <td>0.000295</td>\n",
       "    </tr>\n",
       "    <tr>\n",
       "      <th>17</th>\n",
       "      <td>0.90</td>\n",
       "      <td>0.820</td>\n",
       "      <td>-5.745428</td>\n",
       "      <td>0.000405</td>\n",
       "    </tr>\n",
       "    <tr>\n",
       "      <th>18</th>\n",
       "      <td>0.90</td>\n",
       "      <td>0.860</td>\n",
       "      <td>-5.975214</td>\n",
       "      <td>0.000505</td>\n",
       "    </tr>\n",
       "    <tr>\n",
       "      <th>19</th>\n",
       "      <td>0.90</td>\n",
       "      <td>0.900</td>\n",
       "      <td>-6.175910</td>\n",
       "      <td>0.000532</td>\n",
       "    </tr>\n",
       "  </tbody>\n",
       "</table>"
      ],
      "text/plain": [
       "<IPython.core.display.HTML object>"
      ]
     },
     "metadata": {},
     "output_type": "display_data"
    }
   ],
   "source": [
    "display(HTML(pd.DataFrame({r'$k_B T/\\epsilon$': data['temperature'],\n",
    "              r'$\\rho\\sigma^3$': data['density'],\n",
    "              r'$U/\\epsilon$': data['energy_total'],\n",
    "              r'$\\sigma_{U}/\\epsilon$': data['energy_total_blockstdev']}).to_html()))"
   ]
  },
  {
   "cell_type": "code",
   "execution_count": 45,
   "id": "1b86bec5-4516-4580-900a-409bbea0f23e",
   "metadata": {
    "hideCode": false,
    "hidePrompt": false,
    "tags": [
     "hide-input"
    ]
   },
   "outputs": [
    {
     "data": {
      "image/png": "[encoded data removed]",
      "text/plain": [
       "<Figure size 640x480 with 1 Axes>"
      ]
     },
     "metadata": {},
     "output_type": "display_data"
    },
    {
     "data": {
      "image/png": "[encoded data removed]",
      "text/plain": [
       "<Figure size 640x480 with 1 Axes>"
      ]
     },
     "metadata": {},
     "output_type": "display_data"
    }
   ],
   "source": [
    "df=pd.DataFrame({'temperature': data['temperature'], 'density': data['density'], 'U': data['energy_total'],'Ustd': data['energy_total_blockstdev']})\n",
    "def plot_u(df, liquid=False):\n",
    "    for t in [0.85, 0.9]:\n",
    "        if liquid:\n",
    "            dens_cond = (df['density'] >= 0.2)\n",
    "        else:\n",
    "            dens_cond = (df['density'] < 0.2)\n",
    "        df1=df[(df['temperature']==t) & dens_cond]\n",
    "        plt.errorbar(df1['density'], df1['U'], df1['Ustd'], fmt='.', label=r'$k_B T/\\epsilon=$'+str(t))\n",
    "    plt.xlabel(r'$\\rho\\sigma^3$', fontsize=16)\n",
    "    plt.ylabel(r'$U/\\epsilon$', fontsize=16)\n",
    "    plt.legend()\n",
    "    plt.show()\n",
    "plot_u(df, liquid=False)\n",
    "plot_u(df, liquid=True)"
   ]
  }
 ],
 "metadata": {
  "celltoolbar": "Hide code",
  "hide_code_all_hidden": false,
  "kernelspec": {
   "display_name": "Python 3 (ipykernel)",
   "language": "python",
   "name": "python3"
  },
  "language_info": {
   "codemirror_mode": {
    "name": "ipython",
    "version": 3
   },
   "file_extension": ".py",
   "mimetype": "text/x-python",
   "name": "python",
   "nbconvert_exporter": "python",
   "pygments_lexer": "ipython3",
   "version": "3.12.1"
  }
 },
 "nbformat": 4,
 "nbformat_minor": 5
}
