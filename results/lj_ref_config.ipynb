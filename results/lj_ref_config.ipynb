{
 "cells": [
  {
   "cell_type": "markdown",
   "id": "da515c9e",
   "metadata": {},
   "source": [
    "# LJ Ref. Config.\n",
    "\n",
    "[Reference Configurations (Ref. Config.)](../methods/ref_configs.rst) were conducted with the [Lennard-Jones (LJ)](../models/lj.rst) potential."
   ]
  },
  {
   "cell_type": "code",
   "execution_count": 1,
   "id": "2324cae0",
   "metadata": {},
   "outputs": [
    {
     "data": {
      "text/plain": [
       "{'cubic4': {'number': 30,\n",
       "  'pbc': {'length': 8},\n",
       "  'U_lj': -16.790321304625856,\n",
       "  'U_lrc': -0.5451660014945706,\n",
       "  'U_total': -17.335487306120427},\n",
       " 'triclinic3': {'number': 300,\n",
       "  'pbc': {'length_x': 10.0,\n",
       "   'length_y': 9.84807753012208,\n",
       "   'length_z': 9.64974312607518,\n",
       "   'tilt_xy': 1.7364817766693041,\n",
       "   'tilt_xz': 2.5881904510252074,\n",
       "   'tilt_yz': 0.42863479791864567},\n",
       "  'U_lj': -505.78567945268367,\n",
       "  'U_lrc': -29.37186430697248,\n",
       "  'U_total': -535.1575437596562}}"
      ]
     },
     "execution_count": 1,
     "metadata": {},
     "output_type": "execute_result"
    }
   ],
   "source": [
    "from dormms import lennard_jones as lj\n",
    "lj.ReferenceConfigurations().data()"
   ]
  }
 ],
 "metadata": {
  "kernelspec": {
   "display_name": "Python 3 (ipykernel)",
   "language": "python",
   "name": "python3"
  },
  "language_info": {
   "codemirror_mode": {
    "name": "ipython",
    "version": 3
   },
   "file_extension": ".py",
   "mimetype": "text/x-python",
   "name": "python",
   "nbconvert_exporter": "python",
   "pygments_lexer": "ipython3",
   "version": "3.12.1"
  }
 },
 "nbformat": 4,
 "nbformat_minor": 5
}
